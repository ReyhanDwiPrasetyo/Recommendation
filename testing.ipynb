{
 "cells": [
  {
   "cell_type": "code",
   "execution_count": 1,
   "metadata": {},
   "outputs": [],
   "source": [
    "from Recommendation import ArticleRecommendation\n",
    "model = ArticleRecommendation()\n",
    "coba = model.recommendation('C:/Users/Reyhan Dwi/Documents/Reyhan/Bangkit Academy/Final Capstone/artikel-scrapping-preprocessed (1).csv','plastik')"
   ]
  },
  {
   "cell_type": "code",
   "execution_count": 3,
   "metadata": {},
   "outputs": [],
   "source": [
    "json_data = coba.to_json(orient='records',lines=True)"
   ]
  },
  {
   "cell_type": "code",
   "execution_count": 4,
   "metadata": {},
   "outputs": [
    {
     "data": {
      "text/plain": [
       "'{\"Kode\":70,\"title\":\"Daur Ulang Plastik dari Termudah hingga Tersulit, Pahami juga Jenisnya\",\"content\":\"\\\\u201cKita Hidup di Era Plastik\\\\u201d begitu kiranya yang ditulis oleh Lilly Sedaghat, seorang jurnalis dan pembicara lingkungan dalam tulisannya di laman National Geographic yang berjudul \\\\u201c7 things you don\\\\u2019t know about plastic\\\\u201d. Istilah itu memang cocok dengan kondisi sekarang ini, di mana manusia hidup bersama dengan plastik. Produksi plastik dunia pun terus mengalami peningkatan.Terdata dari Our World Data, di tahun 1983, untuk pertama kalinya produksi plastik global secara kumulatif melewati angka 1 miliar ton. Hingga tercatat di tahun 2015, produksinya meningkat menjadi 7.82 miliar ton. Dari jumlah itu, baru 6% dilakukan daur ulang plastik, sisanya dibuang dan dibakar.Sampah plastik menumpukSudah lebih dari seabad \\\\u2018hidup bersama\\\\u2019 plastik, manusia kini kesulitan untuk benar-benar lepas dari polimer ini. Dengan melihat kondisi yang demikian, daur ulang plastik seharusnya bisa menjadi salah satu solusi untuk mengurangi polusi plastik. Walau begitu, upaya ini harus dibarengi dengan regulasi produksi, distribusi dan konsumsi plastik yang tepat dan ketat.Daur Ulang Plastik di Indonesia Belum MaksimalDi Indonesia, daur ulang masih sangat minim dilakukan, mengingat pemilahan dan pengelolaan sampah masih menggunakan metode konvensional, yakni dibakar dan ditimbun di Tempat Pemrosesan Akhir (TPA). Bahkan, di ruang publik masyarakat masih sulit membedakan mana sampah organik, anorganik dan beracun. Alih-alih melakukan daur ulang plastik dengan benar, meningkatkan kesadaran memilah sampah dan membuang sampah sesuai tempatnya saja, masih menjadi tantangan besar. Untuk meningkatkan kesadaran ini, bekal pengetahuan mengenai jenis plastik dan bagaimana cara memperlakukannya, juga penting.Dengan mengetahui jenis-jenis plastik, tentu akan memudahkan pemilahan dan mana saja plastik yang mudah didaur ulang serta mana yang sulit, atau bahkan tidak bisa didaur ulang. Plastik dapat dibedakan dari tujuh kode yang umumnya tercantum di produk plastik itu sendiri.\\\\u00a0Jenis Plastik dan Potensi Daur UlangnyaBerikut tujuh kode jenis plastik yang memudahkan untuk identifikasi sebelum melakukan daur ulang plastik:1. \\\\u00a0 \\\\u00a0 \\\\u00a0 PET atau PolythyleneJenis plastik ini paling banyak ditemui di tengah-tengah masyarakat, seperti botol air minum, dan botol sekali pakai lainnya. Melansir dari buku Sustaination, daur ulang plastik ini dikategorikan mudah, yakni dengan cara dihancurkan menjadi serpihan dan didaur ulang menjadi kain polyester, dakron isi boneka\\\\/bantal, dan karpet.2. \\\\u00a0 \\\\u00a0 \\\\u00a0 HDPE atau High-density PolyethyleneDaur ulang plastik HPDE paling sering dilakukan karena prosesnya daur ulangnya sederhana dan memiliki nilai ekonomi. Biasanya jenis plastik ini digunakan sebagai wadah detergen, sampo, sabun, dan jenis wadah yang cukup tebal lainnya.3. \\\\u00a0 \\\\u00a0 \\\\u00a0 PVC atau Polyvynil ChlorideDaur ulang plastik jenis ini dikategorikan sulit karena mengandung bahan kimia yang dapat luluh. Beberapa jenis PVC memang bisa digunakan kembali, tapi tidak dianjurkan jika bersentuhan dengan makanan. Jenis plastik ini biasa digunakan sebagai plastic wrap, kabel, pipa hingga mainan anak.4. \\\\u00a0 \\\\u00a0 \\\\u00a0 LDPE atau Low-density PolyethyleneJenis plastik ini sangat mudah ditemui, tapi sangat sulit didaur ulang. LDPE biasa digunakan sebagai plastik kresek. Inilah alasan pentingnya menolak kantong plastik sekali pakai ketika berbelanja, dan disarankan untuk membawa tas belanja pakai ulang.5. \\\\u00a0 \\\\u00a0 \\\\u00a0 PP atau PolypropyleneDaur ulang plastik ini dikategorikan sedang-sulit, karena memiliki ketahanan terhadap panas, dapat menghalangi kelembapan dan minyak. PP sering dijadikan sebagai kemasan makanan, seperti mie instan, sereal dan lainnya.6. \\\\u00a0 \\\\u00a0 \\\\u00a0 PS atau PolysterenePlastik ini tergolong sulit didaur ulang karena dapat mengeluarkan zat berbahaya karsinogen berupa styrene. Jenis plastik ini biasa digunakan untuk membuat garpu dan sendok plastik, Styrofoam, dan tempat telur.7. \\\\u00a0 \\\\u00a0 \\\\u00a0 O atau OthersJenis plastik ini dikategorikan sulit, bahkan tidak dapat didaur ulang dan berbahaya jika terkena makanan. Jenis plastik ini berupa BPA, polycarbonate dan LEXAN, bahan kimia yang dapat memicu masalah kesehatan.Setelah mengetahui jenis plastik mana saja yang mudah didaur ulang, melakukan pemilahan penting dilakukan. Karena, kondisi plastik yang kotor akan menyulitkan proses daur ulang, sehingga produk hasil daur ulang plastik tidak maksimal dan bisa saja malah mencemari lingkungan karena gagal didaur ulang. Untuk memahami lebih jauh tentang jenis plastik ini, Anda bisa mengunjungi link Waste4Change ini. Memperlakukan plastik dengan semestinya, sedikit banyak akan berdampak pada polusi plastik yang kini menjadi masalah global. Jika itu dilakukan oleh semua individu, bukan tidak mungkin jika hidup berdampingan dengan plastik, akan jauh lebih baik tanpa ada pencemaran dan kerusakan.\",\"date_created\":\"19 July 2022\",\"author\":\"Mita Defitri\",\"link\":\"https:\\\\/\\\\/waste4change.com\\\\/blog\\\\/daur-ulang-plastik-dari-termudah-hingga-tersulit-pahami-juga-jenisnya\\\\/\"}\\n{\"Kode\":66,\"title\":\"Manfaat Daur Ulang Plastik dalam Kehidupan Sehari-hari\",\"content\":\"Indonesia termasuk dalam lima besar negara dengan produksi sampah plastik terbanyak di dunia. Melansir data dari Badan Pusat Statistik (BPS) 2021, Indonesia menghasilkan sampah plastik sebanyak 66 juta ton per tahun, dan parahnya, sekitar 0.26 hingga 0.59 juta ton sampah berakhir ke laut.Sungai yang airnya tertutupi sampah plastik. Sumber: www.cardiff.ac.ukSedangkan secara global, setidaknya ada 14 juta ton plastik berakhir di lautan setiap tahunnya (melansir data dari IUCN). Kondisi ini tentu memprihatinkan, sehingga perlu dilakukan langkah pencegahan dan penanganan dampak yang makin memburuk. Daur ulang plastik misalnya, bisa menjadi salah satu solusi.Plastik yang Mengancam KehidupanDari hari ke hari, dampak polusi sampah plastik makin meningkat. Bahkan, ilmuwan memperkirakan di tahun 2050 nanti, jumlah plastik di laut lebih banyak daripada ikan, jika masalah sampah plastik ini tak segera menemui titik terang.Tidak hanya di laut saja, permasalahan plastik juga mengancam kelestarian lingkungan dan makhluk hidup di darat. IUCN menyebut, polusi plastik dapat mengancam keamanan dan kualitas pangan manusia, sehingga akan berdampak pada kesehatan. Juga, plastik berkontribusi dalam perubahan iklim.Polusi plastik membuat kualitas tanah menurun, hingga sulit menyerap air, mikroplastik mencemari air sungai hingga membuat ekosistem rusak, dan masih banyak lagi dampak buruk dari polusi plastik.Manfaat Daur Ulang PlastikDaur ulang plastik menjadi salah satu upaya untuk mengurangi sampah plastik yang makin menggunung tiap tahunnya. Langkah ini dapat dilakukan di mana saja, dan tak harus berskala besar. Misalnya saja daur ulang plastik kemasan yang sehari-hari digunakan menjadi ecobrick atau barang bernilai guna lainnya.Bisa juga, menabung sampah plastik yang sudah dipilah ke bank sampah terdekat. Atau, dengan mengirimkan sampah plastik ke organisasi\\\\/lembaga\\\\/perusahaan yang menangani masalah daur ulang plastik, seperti Waste4Change.Tidak hanya berdampak dalam mengatasi permasalahan polusi sampah, hasil dari daur ulang plastik itu punya banyak manfaat bagi kehidupan sehari-hari. Berikut beberapa manfaat daur ulang sampah plastik dalam kehidupan sehari-hari:Rumah Jadi Lebih BersihPlastik bak jadi kebutuhan primer, karena hampir semua kebutuhan wadah terbuat dari plastik. Misalnya saja botol minum, galon, tempat makan, hingga alat elektronik. Karena usia pakai barang-barang yang terbuat dari plastik ini tidak lama, barang-barang ini akan dibuang. Terlebih lebih plastik sekali pakai. Tanpa daur ulang plastik, barang-barang ini akan tertumpuk dan mengotori rumah, juga lingkungan sekitar.Daur ulang plastik yang benar, akan membuat usia barang jadi lebih panjang dan barang memiliki nilai guna lain. Seperti membuat tas dari bungkus kemasan kopi, memakai lagi botol plastik untuk membuat eco-enzyme, pot bunga atau barang lain. Dengan begitu, rumah akan jadi lebih bersih karena terbebas dari plastik sekali pakai yang memenuhi ruang. Nilai guna lainnya, barang yang dibuat dari daur ulang plastik, dapat menambah nilai estetik.Jadi Lebih HematDalam kehidupan sehari-hari, daur ulang mungkin terbatas ke beberapa barang saja. Namun, dalam artian luas, daur ulang plastik merupakan bagian dari efisiensi sumber daya dan energi. Melansir dari laman Stanford University, ketika industri memproduksi barang dengan bahan daur ulang, maka dapat menghemat bahan baku. Selain itu, pemakaian energi untuk pengolahan juga lebih ringan.Sedangkan dalam kehidupan sehari-hari, daur ulang plastik dapat menghemat pengeluaran, karena kita dapat membuat barang sendiri. Misalnya dengan botol plastik bekas untuk menanam, jadi tidak perlu membeli pot atau polybag. Dan masih banyak lagi contoh daur ulang yang membuat dompet jadi lebih aman dan tetap tebal.Bisa Jadi Peluang BisnisManfaat daur ulang plastik dalam kehidupan sehari-hari selanjutnya ialah bisa menjadi peluang bisnis. Jika memiliki ide daur ulang yang berdampak pada pengurangan sampah dan polusi plastik, Anda bisa mencoba bisnis kecil-kecilan. Misalnya menjual hasil kreasi daur ulang, menjual hasil dari eco-enzyme dan masih banyak lagi. Dengan begitu, tidak hanya rumah yang bersih dan bisa berhemat saja, tapi Anda juga bisa menambah pemasukkan dari hasil daur ulang plastik.Menghemat Lahan dan Ruang TPASatu lagi manfaat daur ulang plastik dalam kehidupan sehari-hari yang paling berdampak. Dengan mendaur ulang plastik dan sampah, maka sampah yang terbuang di Tempat Pemrosesan Akhir (TPA) juga akan berkurang.Dampak jangka panjangnya, jika aksi daur ulang plastik disertai dengan 4R (Reuse, Refuse, Reduce dan Rot) lainnya, maka TPA tidak akan menggunung dan menimbulkan permasalahan lingkungan lain. Dengan begitu, lahan kosong yang seharusnya menjadi TPA, bisa dimanfaatkan untuk kebutuhan lain, misalnya lahan terbuka hijau, taman kota atau tempat publik lainnya.Untuk mendapatkan segala manfaat daur ulang plastik ini, kita bisa memulainya dari diri sendiri. Mencoba adalah awal yang baik. Yuk daur ulang plastik.\",\"date_created\":\"23 July 2022\",\"author\":\"Mita Defitri\",\"link\":\"https:\\\\/\\\\/waste4change.com\\\\/blog\\\\/manfaat-daur-ulang-plastik-dalam-kehidupan-sehari-hari\\\\/\"}\\n{\"Kode\":50,\"title\":\"Mengenal Lebih Dekat Sampah Plastik Fleksibel dan Multilayer Plastic\",\"content\":\"Menurut data dari Kementerian Lingkungan Hidup dan Kehutanan (KLHK), Indonesia menghasilkan sampah sebesar 68,5 juta ton selama tahun 2021 dan sebanyak 17 persen di antaranya adalah sampah plastik. Kebanyakan didominasi oleh sampah plastik fleksibel yang berbentuk wadah kemasan, seperti makanan, minuman. Sebagaimana disampaikan oleh Rosa Vivien Ratnawati, Direktur Jenderal Pengelolaan Limbah, Sampah, dan Bahan Beracun Berbahaya (PSLB3) KLHK.\\\\u00a0Sebagian besar orang-orang menggunakan bahan plastik karena lebih praktis dan cukup sekali pakai saja, setelah itu langsung dibuang tanpa memilah atau mengelolanya terlebih dahulu. Padahal, sampah plastik yang kita hasilkan tidak selalu harus berujung ke pembuangan. Salah satunya dengan menerapkan prinsip 3R (reduce, reuse, recycle) sehingga timbulan sampah plastik dapat dikurangiPerlu diketahui bahwa sampah plastik pun dibagi menjadi beberapa jenis. Untuk dapat mengelola berbagai jenis sampah secara tepat serta optimal, khususnya sampah plastik, maka kita harus memahami jenis-jenisnya dan bagaimana cara mengolahnya. Dua di antaranya adalah sampah plastik fleksibel dan multilayer plastic. Berikut ini merupakan uraian tentang kedua jenis sampah plastik tersebut.Perbedaan Sampah Plastik Fleksibel dan Multilayer PlasticSampah plastik fleksibel merupakan jenis sampah plastik yang paling sulit didaur ulang. Berdasarkan hasil riset Waste4Change mengenai Alur Material Sampah Plastik Fleksibel di DKI Jakarta, sampah plastik fleksibel sebanyak 244,72 ton\\\\/hari atau 87,52% seluruhnya masih berakhir di TPA. Hanya beberapa persen saja yang didaur ulang, sisanya diproses di PLTSa (Pembangkit Listrik Tenaga Sampah), bahkan tidak terkelola.\\\\u00a0Sampah plastik fleksibel berbentuk lembaran serta terbagi menjadi 2 bagian, yaitu monolayer (satu lapisan) dan multilayer yang terdiri lebih dari 1 lapisan dan material.\\\\u00a0Dalam plastik multilayer, setiap lapisannya terdiri dari sealing layer, barrier layer, dan printing layer, contohnya adalah kemasan produk berbentuk sachet. Lapisan-lapisan bertumpuk yang terdapat pada sampah plastik multilayer ini membuatnya menjadi jenis sampah yang sangat sulit untuk diuraikan. Bahan baku yang digunakan untuk membuat kemasan ini pun tidak mudah dilebur karena terbuat dari benda yang memiliki titik leleh berbeda.Jenis-jenis Sampah Plastik Fleksibel dan Multilayer PlasticTerdapat 4 jenis plastik fleksibel, di antaranya yaitu monolayer, gabungan multilayer plastik dan logam, multilayer plastik dan plastik, serta multilayer plastik dan kertas.\\\\u00a0Ada beberapa timbulan sampah plastik fleksibel yang telah mempunyai nilai di pasar daur ulang, yaitu jenis monolayer seperti kantong plastik. Sampah plastik fleksibel biasanya terbuat dari selopan, aluminium foil, film plastik, film plastik berlapis satu atau lebih logam aluminium tanpa adanya bahan perekat dan thermoplastic.\\\\u00a0Berdasarkan riset, jumlah sampah plastik fleksibel jenis monolayer di DKI Jakarta mendominasi dengan rincian sebesar 48%, sedangkan jenis lainnya antara lain 33% multilayer plastik dan logam, 9% multilayer plastik dan plastik, serta 0% multilayer plastik dan kertas. Faktor lain yang menjadi masalah adalah  teknologi yang masih terbatas, serta kesulitan dalam pemisahan antar lapisan yang membutuhkan banyak biaya agar dapat didaur ulang. Walaupun sampah jenis ini baik untuk mencegah food waste, namun tetap saja berpotensi besar membuat lingkungan tercemar.Source: Zerowaste.idSampah plastik multilayer atau Multi-Layered Packaging (MLP) biasanya ditemukan pada kemasan-kemasan berbentuk sachet seperti bungkus kopi, minuman bubuk, sampo, deterjen, bungkus mie instan, dan kemasan sejenis sachet lainnya. Kemasan sachet terbentuk dari satu atau lebih jenis polimer serta terdiri dari 3-4 lapisan berupa lapisan paling dalam plastik tips yang berwarna bening, kemudian lapisan aluminium foil, lapisan gambar, dan yang terakhir lapisan kertas yang dilaminasi.\\\\u00a0Akibat jenisnya yang sangat sulit terurai dan terdaur ulang, sampah plastik multilayer menyebabkan penumpukan yang berdampak pada terbentuknya mikroplastik. Mikroplastik ini mengandung zat yang sangat membahayakan kesehatan manusia, kehidupan biota laut, mikroorganisme, dan merusak lingkungan.\\\\u00a0Untuk mengatasi permasalahan sampah plastik yang semakin meresahkan ini, baik produsen maupun konsumen harus turut bertindak. Para konsumen dapat mengurangi penggunaan plastik berbahan fleksibel dan multilayer, sedangkan produsen dapat turut berkontribusi melalui kegiatan Plastic Credit.\\\\u00a0Waste4Change sebagai penyedia layanan pengelolaan sampah yang holistik, memiliki solusi dalam membantu menangani timbulan sampah plastik. Layanan Waste Credit dapat membantu perusahaan untuk turut serta berkontribusi dalam penanganan dan daur ulang sampah plastik secara bertanggung jawab. Cari tau lebih lanjut mengenai Waste Credit di sini.\",\"date_created\":\"26 August 2022\",\"author\":\"Mita Defitri\",\"link\":\"https:\\\\/\\\\/waste4change.com\\\\/blog\\\\/mengenal-lebih-dekat-sampah-plastik-fleksibel-dan-multilayer-plastic\\\\/\"}\\n{\"Kode\":103,\"title\":\"Jenis-Jenis Plastik & Contohnya: HDPE, PC, LDPE, PP, PET\\\\/PETE, PVC\",\"content\":\"Ada bermacam-macam bahan dan jenis plastik di dunia, dari bahan plastik LDPE, PC, PET atau PETE, ada plastik HDPE, PP, PS, Styrofoam, PE dan yang lainnyaBahan plastik tidak sesederhana yang Anda pikir. Setiap jenis berbeda dari jenis lainnya. Beberapa di antara plastik-plastik tersebut bisa digunakan berulang kali, ada pula yang dapat menimbulkan risiko kesehatan dan\\\\u00a0pencemaran lingkungan\\\\u00a0dengan penggunaan yang kurang tepat.Beberapa mudah didaur ulang, ada juga yang membutuhkan penanganan yang rumit dan khusus.Coba lihat produk plastik terdekat Anda saat ini. Mungkin kotak bekal yang Anda bawa dari rumah, botol minum plastik, atau bahkan gelas kemasan mi instant.Teliti lebih lanjut, dan Anda kemungkinan besar akan menemukan nomor di bagian bawah produk. Anda mungkin sudah tahu bahwa nomor tersebut mengindikasikan jenis plastik yang digunakan sebagai bahan utama benda tersebut.S.M.A.R.T. Goals Fitness Unit \\\\u2013 ThePhysicalEducator.com trenbolone acetato Indoor Cycling Studio Cyc Goes Bankrupt, Adding to Fitness WoesNamun apakah Anda tahu dengan jelas nomor-nomor plastik yang sebaiknya Anda hindari demi alasan kesehatan, atau mana yang harus Anda hindari karena berpotensi besar mencemari lingkungan?Berikut gambar tabel dari 7 jenis plastik beserta logo simbol, kode nomor dan nama jenis plastiknya.Standar baru simbol resin plastik1. Plastik PET (PETE\\\\/Polyester)Plastik PET biasa contohnya digunakan untuk kemasan makanan dan minuman karena kemampuannya untuk menjaga makanan tetap kedap udara, juga memastikan keutuhan gas karbon dioksida di dalam minuman berkarbonasi.Meskipun bahan plastik PET merupakan salah satu bahan plastik yang banyak didaur ulang, plastik PET mengandung antimony trioxide yang dianggap karsinogen (dapat memicu kanker).Semakin lama sebuah cairan berada di dalam kemasan yang terbuat dari bahan PET, semakin besar potensinya untuk mengaktifkan antimony. Suhu panas di dalam mobil, garasi, dan lemari penyimpanan tertutup juga bisa meningkatkan kemungkinan terlepasnya zat berbahaya tersebut.2. Plastik HDPE (High-Density Polyethylene)Jenis plastik HDPE contohnya digunakan sebagai kantung belanja, karton susu, botol jus, botol shampoo dan botol kemasan obat.Plastik HDPE adalah polimer termoplastik yang dihasilkan dari monomer etilena. HDPE singkatan dari High-Density Polyethylene.Contoh plastik HDPE juga ada di peralatan dapur semisal papan pisau untuk memasak.gambar: papan dengan bahan HDPE ~ image: acmeplastics.comBukan hanya mudah didaur ulang, HDPE juga relatif lebih stabil dari PET. HDPE dianggap sebagai jenis plastik yang cukup aman untuk digunakan bersama makanan dan minuman, meskipun beberapa studi menunjukkan bahwa jika terekspos oleh sinar UV dalam waktu yang lama, jenis plastik HDPE dapat menghasilkan zat kimia serupa estrogen (salah satu hormon pada manusia) yang bisa merusak sistem hormon manusia.Jadi jika ada pertanyaan, jenis plastik apa yang aman? Salah satunya adalah plastik HDPE.3. Plastik PVC (Polyvinyl Chloride)Plastik PVC atau yang biasa disebut vinyl tadinya merupakan bahan plastik kedua yang paling banyak dipakai di dunia (setelah polyethylene), sebelum proses manufaktur dan pembuangan PVC dianggap dapat menyebabkan masalah kesehatan serius serta polusi lingkungan.Dalam hal keamanan penggunaan, PVC merupakan plastik yang dianggap paling berbahaya. Penggunaan PVC bisa menybabkan keracunan beberapa zat berbahaya seperti bisphenol A (BPA), phthalates, lead, dioxins, mercury, and cadmium.Beberapa zat yang disebutkan tersebut bisa menyebabkan kanker; bahan [lastik PVC juga dapat meningkatkan reaksi alergi pada anak dan mengacaukan kerja hormon manusia.Selain itu, PVC juga tidak banyak diproses dalam program-program daur ulang. Inilah mengapa PVC sangat tidak disarankan untuk digunakan masyarakat.4. Plastik LDPE (Low-Density Polyethylene)Polimer LDPE atau plastik LDPE memiliki rantai cabang yang cukup banyak membuatnya tidak terlalu padat sehingga bisa menghasilkan jenis polyethylene yang lebih lunak dan fleksibel.LDPE (singkatan dari Low-Density Polyethylene) biasa digunakan sebagai bahan produk tas (belanja, laundry, roti, makanan beku, koran, sampah), pembungkus plastik, pelapis karton susu serta gelas minuman; juga botol mustard yang bisa diremas, tempat penyimpanan makanan, dan tutup kemasan. LDPE juga digunakan untuk pelapis kabel dan kawat.Meskipun beberapa studi menunjukkan bahwa LDPE bisa merusak sistem hormon manusia, LDPE merupakan salah satu jenis plastik yang dianggap cukup aman untuk digunakan bersama makanan dan minuman. Sayangnya, tipe plastik ini cukup sulit untuk didaurulang.5. Plastik PP (Polypropylene)Selain untuk thermal vest dan beberapa bagian pada mobil, PP juga merupakan salah satu bahan yang digunakan pada popok bayi sekali pakai dan pembalut wanita.Sama seperti LDPE, PP (Polypropylene) dianggap sebagai plastik yang cukup aman untuk digunakan bersama dengan makanan dan minuman.Namun meskipun memiliki kualitas yang cukup baik, PP tidak mudah didaur ulang dan bisa menimbulkan asma serta gangguan hormon pada manusia.6. Plastik PS (Polystyrene)Plastik Polystyrene (PS) adalah Styrofoam yang biasa kita gunakan untuk wadah kemasan makanan, wadah karton penyimpan telur, mangkuk dan gelas sekali pakai, kemasan, juga pada helm.Saat terekspos oleh makanan panas dan berminyak, PS bisa mengeluarkan styerene yang dianggap dapat mengganggu sistem saraf dan otak, bisa juga berdampak pada genetik, paru-paru, hati, serta sistem kekebalan tubuh.Di atas semua risiko tersebut, PS memiliki tingkat daur ulang yang cukup rendah.7. Plastik LainnyaNomor 7 dikhususkan untuk semua plastik yang belum disebutkan serta plastik-plastik yang berlapis atau dikombinasikan dengan tipe plastik lainnya, contohnya plastik bioplastic.7.1 Plastik PC (Polycarbonate)Jenis bahan plastik Polycarbonate (PC) adalah tipe plastik yang paling banyak dikategorikan sebagai tipe plastik nomor 7, yang mana tidak banyak lagi digunakan pada tahun-tahun terakhir ini karena diketahui memiliki kandungan bisphenol A (BPA).Plastik bahan PC juga dikenal dengan nama lainnya, Lexan, Makrolon, Makroclear. Ironisnya, PC biasa digunakan untuk botol minum bayi, botol susu bayi, botol minum, galon minum, salah satu bahan kaleng makanan, botol kecap, dan pelapis gigi.Karena dianggap beracun, beberapa negara sudah melarang penggunaan PC di dalam kemasan susu formula dan botol susu bayi dan balita.BPA yang terkandung di dalam plastik PC terbukti bisa menimbulkan beberapa masalah kesehatan termasuk kerusakan kromosom di dalam rahim wanita, penurunan jumlah sperma pada pria, pubertas dini, beberapa perubahan perilaku.Termasuk perubahan fungsi imunitas, perubahan kelamin pada katak, kerusakan otak dan saraf, kerusakan sistem kardiovaskular, diabetes type III, kegemukan, kegagalan kemoterapi, kanker payudara, kanker prostat, kemandulan, serta kelainan metabolik.Ditambah lagi dengan tingkat daur ulangnya yang cukup rendah, penggunaan PC sangat tidak disarankan.3 Hal Penting dari Info Macam-Macam Plastik di Atas:Karena mengingat ke-7 tipe-tipe plastik tersebut tidaklah mudah, kami akan memberikan beberapa poin penting yang butuh Anda perhatikan:Meskipun berbeda satu dan yang lainnya, semua kategori plastik bisa menimbulkan zat berbahaya jika terekspos pada situasi ekstrem, contohnya panas.3 tipe plastik yang dianggap cukup aman untuk digunakan adalah: Polyethylene Terephthalate (PET), High Density Polyethylene (2-HDPE), and Polypropylene (5-PP).Meskipun para ahli terus melakukan penelitian dan percobaan untuk dapat mendaur ulang semua tipe plastik yang ada, 2 tipe plastik yang sering diproses dalam program daur ulang adalah Polyethylene Terephthalate (1-PET) and High Density Polyethylene (2-HDPE).Alasan Mengapa Tidak Semua Plastik Bisa Didaur UlangMeskipun sama-sama disebut plastik, tidak semua jenis plastik dapat didaur ulang. Ada banyak alasan yang dapat mempengaruhi hal ini. Namun, salah satu alasan mendasar adalah karena tidak tersedianya fasilitas, teknologi, hingga dana yang mampu membiayai daur ulang dari plastik jenis tertentu.\\\\u00a0Selain itu, pasar yang kurang berminat dan nilai material yang kurang menguntungkan juga mempengaruhi. Oleh karena itu, beberapa pabrik daur ulang hanya akan mengambil jenis plastik yang mereka butuhkan dan mengabaikan yang lainnya.\\\\u00a0Mengatasi Masalah Sampah Plastik di IndonesiaPenggunaan plastik secara masif telah dilakukan sejak tahun 1950-an. Penerapannya pun sudah dilakukan ke banyak hal, salah satu yang paling umum adalah menjadikannya wadah atau kemasan.Dikutip dari Kementerian Perindustrian Republik Indonesia, tercatat ada sekitar 892 perusahaan di industri kemasan plastik yang beroperasi pada 2018. Permintaan produk plastik pun meningkat rata-rata sebesar 5-6% di tahun-tahun tersebut.Sayangnya, peningkatan produksi yang tidak dibarengi dengan peningkatan kapasitas pengelolaan sampah dapat menimbulkan masalah timbulan sampah plastik yang lebih besar lagi.Untuk mengatasi hal ini, beberapa upaya lain yang perlu dipertimbangkan untuk membantu menopang pengelolaan sampah yang belum dapat mengatasi masalah sampah yang ada.1. Mengurangi Produksi Sampah KemasanPara produsen, pemilik bisnis, dan perusahaan dapat berupaya mengurangi jumlah produksi sampah dari kemasan yang digunakan dalam produk mereka. Beberapa cara diantaranya adalah dengan menggunakan lebih sedikit bahan kemasan plastik atau menggunakan bahan kemasan yang lebih ramah lingkungan yang dapat terurai secara alami.2. Daur Ulang Sampah KemasanFaktanya, penting bagi perusahaan dan konsumen berkontribusi dalam upaya daur ulang kemasan sebanyak mungkin. Seperti mencegah kemasan dibuang dalam keadaan bercampur dengan sampah lainnnya dan mengirimkan sampah tersebut ke fasilitas daur ulang.\\\\u00a0Perusahaan dapat bekerja sama dengan program daur ulang tertentu, salah satunya Waste4Change yang menyediakan layanan In-Store Recycling yang dapat membantu anda meningkatkan daur ulang materi dari sampah berlabel merek dalam seluruh lini bisnis anda. Ketahui informasi selengkapnya di w4c.id\\\\/ISR.3. Inovasi KemasanIndustri juga perlu terus berinovasi untuk mengembangkan kemasan yang lebih berkelanjutan. Ini termasuk penggunaan bahan kemasan yang dapat terurai secara alami atau bahan kemasan yang dapat didaur ulang dengan lebih efisien.4. Edukasi KonsumenInisiatif seperti penandaan kemasan yang jelas dan kampanye kesadaran lingkungan dapat membantu meningkatkan kesadaran konsumen tentang cara yang tepat untuk membuang kemasan.Gambar Infografik dari 7 Jenis Plastik7 jenis bahan plastik dan contohnyaKami harap tulisan ini dapat membantu anda memilih jenis plastik yang mau anda gunakan. Baik itu untuk wadah penyimpanan makanan dan minuman serta yang perlu dihindari karena bahannya yang sulit didaur ulang.Jangan lupa memisahkan sampah-sampah Anda sebelum membuangnya. Pisahkan sampah organik dan anorganik; pilah sampah gelas dari kertas dan plastik. Semua usaha Anda itu akan membantu proses daur ulang!English version read HERE.\",\"date_created\":\"17 July 2018\",\"author\":\"Amanda Bahraini\",\"link\":\"https:\\\\/\\\\/waste4change.com\\\\/blog\\\\/tipe-dan-jenis-plastik\\\\/\"}\\n{\"Kode\":59,\"title\":\"Bahaya Sampah Plastik bagi Kesehatan, Temuan Mikroplastik dalam Tubuh Manusia\",\"content\":\"Bahaya sampah plastik makin menghantui kehidupan manusia di bumi. Jumlahnya terus bertambah, menggunung dan \\\\u2018abadi\\\\u2019. Asosiasi Industri Plastik Indonesia (INAPLAS) dan Badan Pusat Statistik (BPS) mendata, jika sampah plastik di Indonesia mencapai 64 juta ton per tahun. Jika diumpamakan paus biru, jumlah sampah ini setara 370 ekor paus biru dengan rata-rata panjang 30 meter.Tak heran jika ada ilmuwan yang memprediksi di tahun 2050 nanti, jumlah sampah di laut lebih banyak dibanding ikan. Data terbaru dari Kementerian Lingkungan Hidup dan Kehutanan (KLHK), lautan Indonesia sudah tercemar sampah plastik cukup parah. Di tahun 2020, ada sekitar 1772,7 gram sampah per meter persegi. Tak hanya di lautan, sampah plastik juga menghantui daratan juga kehidupan manusia.Tanpa penanganan yang tepat, bahaya sampah plastik tidak hanya mempengaruhi lingkungan saja, tapi juga kesehatan manusia. Sebuah fakta mengejutkan ditemukan oleh peneliti dari ECOTON, bahwa mikroplastik ditemukan dalam feses manusia. Penemuan ini diabadikan dalam film dokumenter ciamik, Pulau Plastik. Terbaru, ahli ekotoksikologi dari Vrije University Amsterdam Belanda, Dick Vethaak, menyebut partikel mikroplastik ditemukan dalam darah manusia.Melansir dari laman The Guardian (Microplastics Found in Human Blood for First Time, 4 Maret 2022), bahaya sampah plastik bagi kesehatan manusia ini masih dalam penelitian, terlebih setelah ditemukan mikroplastik dalam darah dan feses manusia.Mikroplastik dalam Tubuh ManusiaManusia bisa terpapar mikroplastik karena penggunaan plastik dalam keseharian yang sudah dianggap hal biasa. Bisa dilihat dari sekeliling kita, dari alat makan, elektronik, hingga sabun dan skincare, mengandung plastik. Melansir dari laman Plastic Health Coalition, menyebut jika bahaya sampah plastik bisa berpengaruh pada kesehatan manusia lewat tiga jalur, yakni lewat makanan, minuman, dan udara yang dihirup. Sebuah publikasi dari Environmental Science and Technology (Human Consumption of Microplastics, 2019), menyebut jika air kemasan menjadi salah satu sumber partikel plastik tertinggi yang dikonsumsi manusia. Rata-rata dalam satu botol minum plastik kemasan, mengandung 100 mikroplastik per liternya.Kedua, bahan kimia tambahan dalam plastik yang dikaitkan dengan masalah kesehatan (kanker terkait hormone, infertilitas dan gangguan perkembangan saraf). Ketiga, mikroplastik bisa menarik mikroorganisme patogen yang berbahaya bagi tubuh manusia karena dapat menyebabkan infeksi. Bahaya sampah plastik bagi kesehatan manusia memang tidak bisa dilihat secara langsung dan membutuhkan waktu yang cukup panjang.Mikroplastik (sumber: https:\\\\/\\\\/plasticchange.org\\\\/our-documentation\\\\/microplastic\\\\/)Sebuah publikasi dari Indian J Occup Environ Med (Public Health Impact of Plastic, 2011) memberikan gambaran umum mengapa plastik bisa berbahaya bagi kesehatan manusia. Dalam publikasi itu disebutkan jika bahan berbahaya dalam plastik yang biasa digunakan sebagai bahan untuk membuat mainan anak-anak, menjadi salah satu pemicu masalah kesehatan. Menggigit plastik, seperti mainan penggigit (teether plastik), bisa menjadi jalan masuknya mikroplastik ke dalam tubuh. Mikroplastik tersebut dapat terbawa ke saluran pencernaan, bahkan bisa sampai ke rahim dan mempengaruhi perkembangan janin. Selain itu, paparan bahaya sampah plastik itu dapat menyebabkan kanker, cacat lahir, gangguan kekebalan tubuh, efek perkembangan dan reproduksi.Solusi Mengurangi Paparan MikroplastikBahaya Mikroplastik (Sumber: ecobnb)Seperti yang sudah diketahui, usia plastik bisa berkali lipat dari usia manusia. Plastik adalah salah satu penemuan tercanggih manusia, yang sayangnya sangat sulit diuraikan. Butuh waktu ratusan tahun bagi plastik untuk benar-benar terurai. Sebelum terurai, plastik ini akan terpotong-potong menjadi partikel kecil, atau biasa yang disebut sebagai mikroplastik. Bisa dibayangkan jika mikroplastik yang sulit terurai dan bisa bertahan ratusan tahun ini ada di dalam tubuh manusia. Keberadaan mereka bisa mengganggu kinerja organ tubuh, dan menjadi masalah kesehatan seperti yang sudah dijelaskan sebelumnya.Salah satu solusi dari bahaya sampah plastik bagi kesehatan manusia ini ialah dengan mengurangi interaksi dengan plastik. Terdengar sulit memang, mengingat kehidupan manusia kini sulit terlepas dari plastik. Sebagai individu, kita bisa memulainya dari mengurangi penggunaan barang-barang yang mengandung plastik dan menggantinya dengan barang yang lebih ramah lingkungan, juga untuk kesehatan. Sedangkan pada tingkat lingkungan masyarakat, kita bisa mengajak tetangga untuk mengurangi pemakaian plastik, bahkan dari yang kecil sekalipun.Selain itu, solusi yang tak kalah penting untuk mengurangi bahaya sampah plastik ialah kebijakan pemerintah, peran pihak swasta dan juga masyarakat. Kebijakan yang ketat mengenai pemakaian plastik dan polimer-polimernya dalam sebuah produk, harus diterapkan untuk kepentingan konsumen dan lingkungan dalam jangka panjang. Selain itu, menyebaran informasi agar masyarakat lebih paham mengenai bahaya sampah plastik yang bisa mengintai kesehatan, juga harus diperluas. Diharapkan dengan makin masifnya penyebaran informasi terkait sampah plastik, dapat meningkatkan kesadaran masyarakat soal bagaimana pemakaian plastik dan penanganan sampah plastik yang benar.\",\"date_created\":\"10 August 2022\",\"author\":\"Mita Defitri\",\"link\":\"https:\\\\/\\\\/waste4change.com\\\\/blog\\\\/bahaya-sampah-plastik-bagi-kesehatan-temuan-mikroplastik-dalam-tubuh-manusia\\\\/\"}\\n'"
      ]
     },
     "execution_count": 4,
     "metadata": {},
     "output_type": "execute_result"
    }
   ],
   "source": [
    "json_data"
   ]
  },
  {
   "cell_type": "code",
   "execution_count": 5,
   "metadata": {},
   "outputs": [],
   "source": [
    "with open('data.json','w') as file:\n",
    "    file.write(json_data)"
   ]
  },
  {
   "cell_type": "code",
   "execution_count": 7,
   "metadata": {},
   "outputs": [],
   "source": [
    "import pandas as pd"
   ]
  },
  {
   "cell_type": "code",
   "execution_count": 8,
   "metadata": {},
   "outputs": [],
   "source": [
    "artikel = pd.read_csv(\"artikel-scrapping-preprocessed (1).csv\")"
   ]
  },
  {
   "cell_type": "code",
   "execution_count": 9,
   "metadata": {},
   "outputs": [
    {
     "data": {
      "text/html": [
       "<div>\n",
       "<style scoped>\n",
       "    .dataframe tbody tr th:only-of-type {\n",
       "        vertical-align: middle;\n",
       "    }\n",
       "\n",
       "    .dataframe tbody tr th {\n",
       "        vertical-align: top;\n",
       "    }\n",
       "\n",
       "    .dataframe thead th {\n",
       "        text-align: right;\n",
       "    }\n",
       "</style>\n",
       "<table border=\"1\" class=\"dataframe\">\n",
       "  <thead>\n",
       "    <tr style=\"text-align: right;\">\n",
       "      <th></th>\n",
       "      <th>Kode</th>\n",
       "      <th>title</th>\n",
       "      <th>content</th>\n",
       "      <th>date_created</th>\n",
       "      <th>author</th>\n",
       "      <th>link</th>\n",
       "      <th>content_preprocessed</th>\n",
       "    </tr>\n",
       "  </thead>\n",
       "  <tbody>\n",
       "    <tr>\n",
       "      <th>0</th>\n",
       "      <td>0</td>\n",
       "      <td>Trend Kemasan Berkelanjutan: Botol Plastik Tan...</td>\n",
       "      <td>Industri pengemasan atau packaging saat ini me...</td>\n",
       "      <td>1 February 2024</td>\n",
       "      <td>admin</td>\n",
       "      <td>https://waste4change.com/blog/trend-kemasan-be...</td>\n",
       "      <td>ndustri emas packaging jadi salah satu sumbang...</td>\n",
       "    </tr>\n",
       "    <tr>\n",
       "      <th>1</th>\n",
       "      <td>1</td>\n",
       "      <td>Pemenang UN SDG Action Awards 2023 Bantu Kuran...</td>\n",
       "      <td>Green Obsession, penerima penghargaan UN SDG A...</td>\n",
       "      <td>22 December 2023</td>\n",
       "      <td>Mita Defitri</td>\n",
       "      <td>https://waste4change.com/blog/pemenang-un-sdg-...</td>\n",
       "      <td>reen bsession terima harga ction wards kategor...</td>\n",
       "    </tr>\n",
       "    <tr>\n",
       "      <th>2</th>\n",
       "      <td>2</td>\n",
       "      <td>10 Cara Mengatasi Pencemaran Tanah dan Panduannya</td>\n",
       "      <td>Penting sekali untuk mengetahui cara mengatasi...</td>\n",
       "      <td>19 December 2023</td>\n",
       "      <td>Ganjar Nugraha</td>\n",
       "      <td>https://waste4change.com/blog/cara-mengatasi-p...</td>\n",
       "      <td>enting sekali tahu cara atas cemar tanah era m...</td>\n",
       "    </tr>\n",
       "    <tr>\n",
       "      <th>3</th>\n",
       "      <td>3</td>\n",
       "      <td>Apa itu Limbah Domestik? Berikut Contoh Jenis ...</td>\n",
       "      <td>Apa itu limbah domestik? Apa pengertian dari l...</td>\n",
       "      <td>11 December 2023</td>\n",
       "      <td>Ganjar Nugraha</td>\n",
       "      <td>https://waste4change.com/blog/apa-itu-limbah-d...</td>\n",
       "      <td>pa limbah domestik pa erti limbah jenis arena ...</td>\n",
       "    </tr>\n",
       "    <tr>\n",
       "      <th>4</th>\n",
       "      <td>4</td>\n",
       "      <td>21 Contoh Limbah Keras Anorganik + Pengertian ...</td>\n",
       "      <td>Sehari-hari, manusia selalu menghasilkan berba...</td>\n",
       "      <td>10 December 2023</td>\n",
       "      <td>Ganjar Nugraha</td>\n",
       "      <td>https://waste4change.com/blog/limbah-keras-ano...</td>\n",
       "      <td>eharihari manusia selalu hasil bagai jenis sam...</td>\n",
       "    </tr>\n",
       "    <tr>\n",
       "      <th>...</th>\n",
       "      <td>...</td>\n",
       "      <td>...</td>\n",
       "      <td>...</td>\n",
       "      <td>...</td>\n",
       "      <td>...</td>\n",
       "      <td>...</td>\n",
       "      <td>...</td>\n",
       "    </tr>\n",
       "    <tr>\n",
       "      <th>99</th>\n",
       "      <td>99</td>\n",
       "      <td>FaktualNews.co: “Metode BSF: Solusi Atasi Samp...</td>\n",
       "      <td>Source: Faktualnews.coMetode BSF, merupakan me...</td>\n",
       "      <td>7 August 2018</td>\n",
       "      <td>Amanda Bahraini</td>\n",
       "      <td>https://waste4change.com/blog/faktualnews-co-m...</td>\n",
       "      <td>ource aktualnewscoetode rupa metode olah sampa...</td>\n",
       "    </tr>\n",
       "    <tr>\n",
       "      <th>100</th>\n",
       "      <td>100</td>\n",
       "      <td>Negara dengan Budaya Pilah Sampah Paling Menarik</td>\n",
       "      <td>Beda negara, beda pula cara memilah sampahnya....</td>\n",
       "      <td>6 August 2018</td>\n",
       "      <td>Amanda Bahraini</td>\n",
       "      <td>https://waste4change.com/blog/negara-dengan-bu...</td>\n",
       "      <td>eda negara beda cara mem sampah eraturan laku ...</td>\n",
       "    </tr>\n",
       "    <tr>\n",
       "      <th>101</th>\n",
       "      <td>101</td>\n",
       "      <td>Berita Terkini dari Gerakan Mengurangi Plastik</td>\n",
       "      <td>Usaha mengurangi sampah plastik merupakan sesu...</td>\n",
       "      <td>26 July 2018</td>\n",
       "      <td>Amanda Bahraini</td>\n",
       "      <td>https://waste4change.com/blog/berita-terkini-g...</td>\n",
       "      <td>saha kurang sampah plastik rupa laku sama pa b...</td>\n",
       "    </tr>\n",
       "    <tr>\n",
       "      <th>102</th>\n",
       "      <td>102</td>\n",
       "      <td>6 Istilah Plastik yang Perlu Kita Ketahui</td>\n",
       "      <td>Selalu ada awal untuk segala sesuatu, mencoba ...</td>\n",
       "      <td>20 July 2018</td>\n",
       "      <td>Amanda Bahraini</td>\n",
       "      <td>https://waste4change.com/blog/istilah-penamaan...</td>\n",
       "      <td>elalu awal segala coba lebih peduli efek limba...</td>\n",
       "    </tr>\n",
       "    <tr>\n",
       "      <th>103</th>\n",
       "      <td>103</td>\n",
       "      <td>Jenis-Jenis Plastik &amp; Contohnya: HDPE, PC, LDP...</td>\n",
       "      <td>Ada bermacam-macam bahan dan jenis plastik di ...</td>\n",
       "      <td>17 July 2018</td>\n",
       "      <td>Amanda Bahraini</td>\n",
       "      <td>https://waste4change.com/blog/tipe-dan-jenis-p...</td>\n",
       "      <td>da bermacammacam bahan jenis plastik dunia bah...</td>\n",
       "    </tr>\n",
       "  </tbody>\n",
       "</table>\n",
       "<p>104 rows × 7 columns</p>\n",
       "</div>"
      ],
      "text/plain": [
       "     Kode  ...                               content_preprocessed\n",
       "0       0  ...  ndustri emas packaging jadi salah satu sumbang...\n",
       "1       1  ...  reen bsession terima harga ction wards kategor...\n",
       "2       2  ...  enting sekali tahu cara atas cemar tanah era m...\n",
       "3       3  ...  pa limbah domestik pa erti limbah jenis arena ...\n",
       "4       4  ...  eharihari manusia selalu hasil bagai jenis sam...\n",
       "..    ...  ...                                                ...\n",
       "99     99  ...  ource aktualnewscoetode rupa metode olah sampa...\n",
       "100   100  ...  eda negara beda cara mem sampah eraturan laku ...\n",
       "101   101  ...  saha kurang sampah plastik rupa laku sama pa b...\n",
       "102   102  ...  elalu awal segala coba lebih peduli efek limba...\n",
       "103   103  ...  da bermacammacam bahan jenis plastik dunia bah...\n",
       "\n",
       "[104 rows x 7 columns]"
      ]
     },
     "execution_count": 9,
     "metadata": {},
     "output_type": "execute_result"
    }
   ],
   "source": [
    "artikel"
   ]
  },
  {
   "cell_type": "code",
   "execution_count": null,
   "metadata": {},
   "outputs": [],
   "source": []
  }
 ],
 "metadata": {
  "kernelspec": {
   "display_name": "Python 3",
   "language": "python",
   "name": "python3"
  },
  "language_info": {
   "codemirror_mode": {
    "name": "ipython",
    "version": 3
   },
   "file_extension": ".py",
   "mimetype": "text/x-python",
   "name": "python",
   "nbconvert_exporter": "python",
   "pygments_lexer": "ipython3",
   "version": "3.10.7"
  }
 },
 "nbformat": 4,
 "nbformat_minor": 2
}
