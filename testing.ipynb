{
 "cells": [
  {
   "cell_type": "code",
   "execution_count": 1,
   "metadata": {},
   "outputs": [],
   "source": [
    "from Recommendation import ArticleRecommendation\n",
    "model = ArticleRecommendation()\n",
    "coba = model.recommendation('C:/Users/Reyhan Dwi/Documents/Reyhan/Bangkit Academy/Final Capstone/artikel-scrapping-preprocessed (1).csv','plastik')"
   ]
  },
  {
   "cell_type": "code",
   "execution_count": 3,
   "metadata": {},
   "outputs": [],
   "source": [
    "json_data = coba.to_json(orient='records',lines=True)"
   ]
  },
  {
   "cell_type": "code",
   "execution_count": 26,
   "metadata": {},
   "outputs": [
    {
     "ename": "TypeError",
     "evalue": "ArticleRecommendation.preprocessed() takes 1 positional argument but 2 were given",
     "output_type": "error",
     "traceback": [
      "\u001b[1;31m---------------------------------------------------------------------------\u001b[0m",
      "\u001b[1;31mTypeError\u001b[0m                                 Traceback (most recent call last)",
      "Cell \u001b[1;32mIn [26], line 3\u001b[0m\n\u001b[0;32m      1\u001b[0m \u001b[38;5;28;01mfrom\u001b[39;00m \u001b[38;5;21;01mRecommendationV2\u001b[39;00m \u001b[38;5;28;01mimport\u001b[39;00m ArticleRecommendation\n\u001b[0;32m      2\u001b[0m model \u001b[38;5;241m=\u001b[39m ArticleRecommendation()\n\u001b[1;32m----> 3\u001b[0m coba \u001b[38;5;241m=\u001b[39m \u001b[43mmodel\u001b[49m\u001b[38;5;241;43m.\u001b[39;49m\u001b[43mrecommendation\u001b[49m\u001b[43m(\u001b[49m\u001b[38;5;124;43m'\u001b[39;49m\u001b[38;5;124;43mC:/Users/Reyhan Dwi/Documents/Reyhan/Bangkit Academy/Final Capstone/englishArticle.csv\u001b[39;49m\u001b[38;5;124;43m'\u001b[39;49m\u001b[43m,\u001b[49m\u001b[38;5;124;43m'\u001b[39;49m\u001b[38;5;124;43mplastic\u001b[39;49m\u001b[38;5;124;43m'\u001b[39;49m\u001b[43m)\u001b[49m\n",
      "File \u001b[1;32mc:\\Users\\Reyhan Dwi\\Documents\\Reyhan\\Bangkit Academy\\Final Capstone\\RecommendationV2.py:39\u001b[0m, in \u001b[0;36mArticleRecommendation.recommendation\u001b[1;34m(self, dataframe_path, user_input)\u001b[0m\n\u001b[0;32m     37\u001b[0m \u001b[38;5;28;01mdef\u001b[39;00m \u001b[38;5;21mrecommendation\u001b[39m(\u001b[38;5;28mself\u001b[39m,dataframe_path,user_input):\n\u001b[0;32m     38\u001b[0m   df \u001b[38;5;241m=\u001b[39m pd\u001b[38;5;241m.\u001b[39mread_csv(dataframe_path)\n\u001b[1;32m---> 39\u001b[0m   user_input \u001b[38;5;241m=\u001b[39m \u001b[38;5;28;43mself\u001b[39;49m\u001b[38;5;241;43m.\u001b[39;49m\u001b[43mpreprocessed\u001b[49m\u001b[43m(\u001b[49m\u001b[43muser_input\u001b[49m\u001b[43m)\u001b[49m\n\u001b[0;32m     40\u001b[0m   data_vector \u001b[38;5;241m=\u001b[39m \u001b[38;5;28mself\u001b[39m\u001b[38;5;241m.\u001b[39mvectorizer\u001b[38;5;241m.\u001b[39mfit_transform((df\u001b[38;5;241m.\u001b[39mcontent_preprocessed))\u001b[38;5;241m.\u001b[39mtoarray()\n\u001b[0;32m     41\u001b[0m   user_vector \u001b[38;5;241m=\u001b[39m \u001b[38;5;28mself\u001b[39m\u001b[38;5;241m.\u001b[39mvectorizer\u001b[38;5;241m.\u001b[39mtransform([user_input])\u001b[38;5;241m.\u001b[39mtoarray()\n",
      "\u001b[1;31mTypeError\u001b[0m: ArticleRecommendation.preprocessed() takes 1 positional argument but 2 were given"
     ]
    }
   ],
   "source": [
    "from RecommendationV2 import ArticleRecommendation\n",
    "model = ArticleRecommendation()\n",
    "coba = model.recommendation('C:/Users/Reyhan Dwi/Documents/Reyhan/Bangkit Academy/Final Capstone/englishArticle.csv','plastic')"
   ]
  },
  {
   "cell_type": "code",
   "execution_count": 33,
   "metadata": {},
   "outputs": [
    {
     "ename": "TypeError",
     "evalue": "ArticleRecommendation.stem() takes 1 positional argument but 2 were given",
     "output_type": "error",
     "traceback": [
      "\u001b[1;31m---------------------------------------------------------------------------\u001b[0m",
      "\u001b[1;31mTypeError\u001b[0m                                 Traceback (most recent call last)",
      "Cell \u001b[1;32mIn [33], line 3\u001b[0m\n\u001b[0;32m      1\u001b[0m \u001b[38;5;28;01mfrom\u001b[39;00m \u001b[38;5;21;01mRecommendationV2\u001b[39;00m \u001b[38;5;28;01mimport\u001b[39;00m ArticleRecommendation\n\u001b[0;32m      2\u001b[0m model \u001b[38;5;241m=\u001b[39m ArticleRecommendation()\n\u001b[1;32m----> 3\u001b[0m coba \u001b[38;5;241m=\u001b[39m \u001b[43mmodel\u001b[49m\u001b[38;5;241;43m.\u001b[39;49m\u001b[43mstem\u001b[49m\u001b[43m(\u001b[49m\u001b[38;5;124;43m'\u001b[39;49m\u001b[38;5;124;43mTHis is a testing\u001b[39;49m\u001b[38;5;124;43m'\u001b[39;49m\u001b[43m)\u001b[49m\n",
      "\u001b[1;31mTypeError\u001b[0m: ArticleRecommendation.stem() takes 1 positional argument but 2 were given"
     ]
    }
   ],
   "source": [
    "from RecommendationV2 import ArticleRecommendation\n",
    "model = ArticleRecommendation()\n",
    "coba = model.stem('THis is a testing')"
   ]
  },
  {
   "cell_type": "code",
   "execution_count": 48,
   "metadata": {},
   "outputs": [
    {
     "ename": "TypeError",
     "evalue": "ArticleRecommendation.stem() takes 1 positional argument but 2 were given",
     "output_type": "error",
     "traceback": [
      "\u001b[1;31m---------------------------------------------------------------------------\u001b[0m",
      "\u001b[1;31mTypeError\u001b[0m                                 Traceback (most recent call last)",
      "Cell \u001b[1;32mIn [48], line 3\u001b[0m\n\u001b[0;32m      1\u001b[0m \u001b[38;5;28;01mfrom\u001b[39;00m \u001b[38;5;21;01mRecommendationV2\u001b[39;00m \u001b[38;5;28;01mimport\u001b[39;00m ArticleRecommendation\n\u001b[0;32m      2\u001b[0m model \u001b[38;5;241m=\u001b[39m ArticleRecommendation()\n\u001b[1;32m----> 3\u001b[0m \u001b[43mmodel\u001b[49m\u001b[38;5;241;43m.\u001b[39;49m\u001b[43mstem\u001b[49m\u001b[43m(\u001b[49m\u001b[38;5;124;43m'\u001b[39;49m\u001b[38;5;124;43mThis is a different method\u001b[39;49m\u001b[38;5;124;43m'\u001b[39;49m\u001b[43m)\u001b[49m\n",
      "\u001b[1;31mTypeError\u001b[0m: ArticleRecommendation.stem() takes 1 positional argument but 2 were given"
     ]
    }
   ],
   "source": [
    "from RecommendationV2 import ArticleRecommendation\n",
    "model = ArticleRecommendation()\n",
    "model.stem('This is a different method')"
   ]
  },
  {
   "cell_type": "code",
   "execution_count": 5,
   "metadata": {},
   "outputs": [],
   "source": [
    "with open('data.json','w') as file:\n",
    "    file.write(json_data)"
   ]
  },
  {
   "cell_type": "code",
   "execution_count": 7,
   "metadata": {},
   "outputs": [],
   "source": [
    "import pandas as pd"
   ]
  },
  {
   "cell_type": "code",
   "execution_count": 8,
   "metadata": {},
   "outputs": [],
   "source": [
    "artikel = pd.read_csv(\"artikel-scrapping-preprocessed (1).csv\")"
   ]
  },
  {
   "cell_type": "code",
   "execution_count": 9,
   "metadata": {},
   "outputs": [
    {
     "data": {
      "text/html": [
       "<div>\n",
       "<style scoped>\n",
       "    .dataframe tbody tr th:only-of-type {\n",
       "        vertical-align: middle;\n",
       "    }\n",
       "\n",
       "    .dataframe tbody tr th {\n",
       "        vertical-align: top;\n",
       "    }\n",
       "\n",
       "    .dataframe thead th {\n",
       "        text-align: right;\n",
       "    }\n",
       "</style>\n",
       "<table border=\"1\" class=\"dataframe\">\n",
       "  <thead>\n",
       "    <tr style=\"text-align: right;\">\n",
       "      <th></th>\n",
       "      <th>Kode</th>\n",
       "      <th>title</th>\n",
       "      <th>content</th>\n",
       "      <th>date_created</th>\n",
       "      <th>author</th>\n",
       "      <th>link</th>\n",
       "      <th>content_preprocessed</th>\n",
       "    </tr>\n",
       "  </thead>\n",
       "  <tbody>\n",
       "    <tr>\n",
       "      <th>0</th>\n",
       "      <td>0</td>\n",
       "      <td>Trend Kemasan Berkelanjutan: Botol Plastik Tan...</td>\n",
       "      <td>Industri pengemasan atau packaging saat ini me...</td>\n",
       "      <td>1 February 2024</td>\n",
       "      <td>admin</td>\n",
       "      <td>https://waste4change.com/blog/trend-kemasan-be...</td>\n",
       "      <td>ndustri emas packaging jadi salah satu sumbang...</td>\n",
       "    </tr>\n",
       "    <tr>\n",
       "      <th>1</th>\n",
       "      <td>1</td>\n",
       "      <td>Pemenang UN SDG Action Awards 2023 Bantu Kuran...</td>\n",
       "      <td>Green Obsession, penerima penghargaan UN SDG A...</td>\n",
       "      <td>22 December 2023</td>\n",
       "      <td>Mita Defitri</td>\n",
       "      <td>https://waste4change.com/blog/pemenang-un-sdg-...</td>\n",
       "      <td>reen bsession terima harga ction wards kategor...</td>\n",
       "    </tr>\n",
       "    <tr>\n",
       "      <th>2</th>\n",
       "      <td>2</td>\n",
       "      <td>10 Cara Mengatasi Pencemaran Tanah dan Panduannya</td>\n",
       "      <td>Penting sekali untuk mengetahui cara mengatasi...</td>\n",
       "      <td>19 December 2023</td>\n",
       "      <td>Ganjar Nugraha</td>\n",
       "      <td>https://waste4change.com/blog/cara-mengatasi-p...</td>\n",
       "      <td>enting sekali tahu cara atas cemar tanah era m...</td>\n",
       "    </tr>\n",
       "    <tr>\n",
       "      <th>3</th>\n",
       "      <td>3</td>\n",
       "      <td>Apa itu Limbah Domestik? Berikut Contoh Jenis ...</td>\n",
       "      <td>Apa itu limbah domestik? Apa pengertian dari l...</td>\n",
       "      <td>11 December 2023</td>\n",
       "      <td>Ganjar Nugraha</td>\n",
       "      <td>https://waste4change.com/blog/apa-itu-limbah-d...</td>\n",
       "      <td>pa limbah domestik pa erti limbah jenis arena ...</td>\n",
       "    </tr>\n",
       "    <tr>\n",
       "      <th>4</th>\n",
       "      <td>4</td>\n",
       "      <td>21 Contoh Limbah Keras Anorganik + Pengertian ...</td>\n",
       "      <td>Sehari-hari, manusia selalu menghasilkan berba...</td>\n",
       "      <td>10 December 2023</td>\n",
       "      <td>Ganjar Nugraha</td>\n",
       "      <td>https://waste4change.com/blog/limbah-keras-ano...</td>\n",
       "      <td>eharihari manusia selalu hasil bagai jenis sam...</td>\n",
       "    </tr>\n",
       "    <tr>\n",
       "      <th>...</th>\n",
       "      <td>...</td>\n",
       "      <td>...</td>\n",
       "      <td>...</td>\n",
       "      <td>...</td>\n",
       "      <td>...</td>\n",
       "      <td>...</td>\n",
       "      <td>...</td>\n",
       "    </tr>\n",
       "    <tr>\n",
       "      <th>99</th>\n",
       "      <td>99</td>\n",
       "      <td>FaktualNews.co: “Metode BSF: Solusi Atasi Samp...</td>\n",
       "      <td>Source: Faktualnews.coMetode BSF, merupakan me...</td>\n",
       "      <td>7 August 2018</td>\n",
       "      <td>Amanda Bahraini</td>\n",
       "      <td>https://waste4change.com/blog/faktualnews-co-m...</td>\n",
       "      <td>ource aktualnewscoetode rupa metode olah sampa...</td>\n",
       "    </tr>\n",
       "    <tr>\n",
       "      <th>100</th>\n",
       "      <td>100</td>\n",
       "      <td>Negara dengan Budaya Pilah Sampah Paling Menarik</td>\n",
       "      <td>Beda negara, beda pula cara memilah sampahnya....</td>\n",
       "      <td>6 August 2018</td>\n",
       "      <td>Amanda Bahraini</td>\n",
       "      <td>https://waste4change.com/blog/negara-dengan-bu...</td>\n",
       "      <td>eda negara beda cara mem sampah eraturan laku ...</td>\n",
       "    </tr>\n",
       "    <tr>\n",
       "      <th>101</th>\n",
       "      <td>101</td>\n",
       "      <td>Berita Terkini dari Gerakan Mengurangi Plastik</td>\n",
       "      <td>Usaha mengurangi sampah plastik merupakan sesu...</td>\n",
       "      <td>26 July 2018</td>\n",
       "      <td>Amanda Bahraini</td>\n",
       "      <td>https://waste4change.com/blog/berita-terkini-g...</td>\n",
       "      <td>saha kurang sampah plastik rupa laku sama pa b...</td>\n",
       "    </tr>\n",
       "    <tr>\n",
       "      <th>102</th>\n",
       "      <td>102</td>\n",
       "      <td>6 Istilah Plastik yang Perlu Kita Ketahui</td>\n",
       "      <td>Selalu ada awal untuk segala sesuatu, mencoba ...</td>\n",
       "      <td>20 July 2018</td>\n",
       "      <td>Amanda Bahraini</td>\n",
       "      <td>https://waste4change.com/blog/istilah-penamaan...</td>\n",
       "      <td>elalu awal segala coba lebih peduli efek limba...</td>\n",
       "    </tr>\n",
       "    <tr>\n",
       "      <th>103</th>\n",
       "      <td>103</td>\n",
       "      <td>Jenis-Jenis Plastik &amp; Contohnya: HDPE, PC, LDP...</td>\n",
       "      <td>Ada bermacam-macam bahan dan jenis plastik di ...</td>\n",
       "      <td>17 July 2018</td>\n",
       "      <td>Amanda Bahraini</td>\n",
       "      <td>https://waste4change.com/blog/tipe-dan-jenis-p...</td>\n",
       "      <td>da bermacammacam bahan jenis plastik dunia bah...</td>\n",
       "    </tr>\n",
       "  </tbody>\n",
       "</table>\n",
       "<p>104 rows × 7 columns</p>\n",
       "</div>"
      ],
      "text/plain": [
       "     Kode  ...                               content_preprocessed\n",
       "0       0  ...  ndustri emas packaging jadi salah satu sumbang...\n",
       "1       1  ...  reen bsession terima harga ction wards kategor...\n",
       "2       2  ...  enting sekali tahu cara atas cemar tanah era m...\n",
       "3       3  ...  pa limbah domestik pa erti limbah jenis arena ...\n",
       "4       4  ...  eharihari manusia selalu hasil bagai jenis sam...\n",
       "..    ...  ...                                                ...\n",
       "99     99  ...  ource aktualnewscoetode rupa metode olah sampa...\n",
       "100   100  ...  eda negara beda cara mem sampah eraturan laku ...\n",
       "101   101  ...  saha kurang sampah plastik rupa laku sama pa b...\n",
       "102   102  ...  elalu awal segala coba lebih peduli efek limba...\n",
       "103   103  ...  da bermacammacam bahan jenis plastik dunia bah...\n",
       "\n",
       "[104 rows x 7 columns]"
      ]
     },
     "execution_count": 9,
     "metadata": {},
     "output_type": "execute_result"
    }
   ],
   "source": [
    "artikel"
   ]
  },
  {
   "cell_type": "code",
   "execution_count": null,
   "metadata": {},
   "outputs": [],
   "source": []
  }
 ],
 "metadata": {
  "kernelspec": {
   "display_name": "Python 3",
   "language": "python",
   "name": "python3"
  },
  "language_info": {
   "codemirror_mode": {
    "name": "ipython",
    "version": 3
   },
   "file_extension": ".py",
   "mimetype": "text/x-python",
   "name": "python",
   "nbconvert_exporter": "python",
   "pygments_lexer": "ipython3",
   "version": "3.10.7"
  }
 },
 "nbformat": 4,
 "nbformat_minor": 2
}
