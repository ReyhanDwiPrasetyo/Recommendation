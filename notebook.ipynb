{
 "cells": [
  {
   "cell_type": "code",
   "execution_count": 1,
   "metadata": {},
   "outputs": [
    {
     "name": "stdout",
     "output_type": "stream",
     "text": [
      "Collecting sastrawiNote: you may need to restart the kernel to use updated packages.\n",
      "\n",
      "  Downloading Sastrawi-1.0.1-py2.py3-none-any.whl.metadata (909 bytes)\n",
      "Downloading Sastrawi-1.0.1-py2.py3-none-any.whl (209 kB)\n",
      "   ---------------------------------------- 209.7/209.7 kB 2.5 MB/s eta 0:00:00\n",
      "Installing collected packages: sastrawi\n",
      "Successfully installed sastrawi-1.0.1\n"
     ]
    }
   ],
   "source": [
    "pip install sastrawi"
   ]
  },
  {
   "cell_type": "code",
   "execution_count": 4,
   "metadata": {},
   "outputs": [
    {
     "name": "stdout",
     "output_type": "stream",
     "text": [
      "Requirement already satisfied: pandas in c:\\users\\reyhan dwi\\appdata\\local\\programs\\python\\python310\\lib\\site-packages (1.5.0)\n",
      "Requirement already satisfied: python-dateutil>=2.8.1 in c:\\users\\reyhan dwi\\appdata\\local\\programs\\python\\python310\\lib\\site-packages (from pandas) (2.8.2)\n",
      "Requirement already satisfied: pytz>=2020.1 in c:\\users\\reyhan dwi\\appdata\\local\\programs\\python\\python310\\lib\\site-packages (from pandas) (2022.4)\n",
      "Requirement already satisfied: numpy>=1.21.0 in c:\\users\\reyhan dwi\\appdata\\local\\programs\\python\\python310\\lib\\site-packages (from pandas) (1.23.4)\n",
      "Requirement already satisfied: six>=1.5 in c:\\users\\reyhan dwi\\appdata\\local\\programs\\python\\python310\\lib\\site-packages (from python-dateutil>=2.8.1->pandas) (1.16.0)\n",
      "Note: you may need to restart the kernel to use updated packages.\n"
     ]
    }
   ],
   "source": [
    "pip install pandas"
   ]
  },
  {
   "cell_type": "code",
   "execution_count": 15,
   "metadata": {},
   "outputs": [],
   "source": [
    "import pandas as pd\n",
    "from sklearn.metrics.pairwise import cosine_similarity\n",
    "from sklearn.feature_extraction.text import TfidfVectorizer\n",
    "from Sastrawi.StopWordRemover.StopWordRemoverFactory import StopWordRemoverFactory\n",
    "from Sastrawi.Stemmer.StemmerFactory import StemmerFactory\n",
    "import re \n",
    "import random \n",
    "import numpy as np"
   ]
  },
  {
   "cell_type": "code",
   "execution_count": 9,
   "metadata": {},
   "outputs": [],
   "source": [
    "df = pd.read_csv('C:/Users/Reyhan Dwi/Documents/Reyhan/Bangkit Academy/Final Capstone/artikel-scrapping.csv')\n",
    "df.rename(columns={df.columns[0]:'Kode'},inplace=True)\n",
    "reco = df.copy()"
   ]
  },
  {
   "cell_type": "code",
   "execution_count": 11,
   "metadata": {},
   "outputs": [],
   "source": [
    "reco['content'] = reco['content'] + ' ' + reco['title']"
   ]
  },
  {
   "cell_type": "code",
   "execution_count": 13,
   "metadata": {},
   "outputs": [
    {
     "data": {
      "text/html": [
       "<div>\n",
       "<style scoped>\n",
       "    .dataframe tbody tr th:only-of-type {\n",
       "        vertical-align: middle;\n",
       "    }\n",
       "\n",
       "    .dataframe tbody tr th {\n",
       "        vertical-align: top;\n",
       "    }\n",
       "\n",
       "    .dataframe thead th {\n",
       "        text-align: right;\n",
       "    }\n",
       "</style>\n",
       "<table border=\"1\" class=\"dataframe\">\n",
       "  <thead>\n",
       "    <tr style=\"text-align: right;\">\n",
       "      <th></th>\n",
       "      <th>Kode</th>\n",
       "      <th>title</th>\n",
       "      <th>content</th>\n",
       "      <th>date_created</th>\n",
       "      <th>author</th>\n",
       "      <th>link</th>\n",
       "    </tr>\n",
       "  </thead>\n",
       "  <tbody>\n",
       "    <tr>\n",
       "      <th>0</th>\n",
       "      <td>0</td>\n",
       "      <td>Trend Kemasan Berkelanjutan: Botol Plastik Tan...</td>\n",
       "      <td>Industri pengemasan atau packaging saat ini me...</td>\n",
       "      <td>1 February 2024</td>\n",
       "      <td>admin</td>\n",
       "      <td>https://waste4change.com/blog/trend-kemasan-be...</td>\n",
       "    </tr>\n",
       "    <tr>\n",
       "      <th>1</th>\n",
       "      <td>1</td>\n",
       "      <td>Pemenang UN SDG Action Awards 2023 Bantu Kuran...</td>\n",
       "      <td>Green Obsession, penerima penghargaan UN SDG A...</td>\n",
       "      <td>22 December 2023</td>\n",
       "      <td>Mita Defitri</td>\n",
       "      <td>https://waste4change.com/blog/pemenang-un-sdg-...</td>\n",
       "    </tr>\n",
       "    <tr>\n",
       "      <th>2</th>\n",
       "      <td>2</td>\n",
       "      <td>10 Cara Mengatasi Pencemaran Tanah dan Panduannya</td>\n",
       "      <td>Penting sekali untuk mengetahui cara mengatasi...</td>\n",
       "      <td>19 December 2023</td>\n",
       "      <td>Ganjar Nugraha</td>\n",
       "      <td>https://waste4change.com/blog/cara-mengatasi-p...</td>\n",
       "    </tr>\n",
       "    <tr>\n",
       "      <th>3</th>\n",
       "      <td>3</td>\n",
       "      <td>Apa itu Limbah Domestik? Berikut Contoh Jenis ...</td>\n",
       "      <td>Apa itu limbah domestik? Apa pengertian dari l...</td>\n",
       "      <td>11 December 2023</td>\n",
       "      <td>Ganjar Nugraha</td>\n",
       "      <td>https://waste4change.com/blog/apa-itu-limbah-d...</td>\n",
       "    </tr>\n",
       "    <tr>\n",
       "      <th>4</th>\n",
       "      <td>4</td>\n",
       "      <td>21 Contoh Limbah Keras Anorganik + Pengertian ...</td>\n",
       "      <td>Sehari-hari, manusia selalu menghasilkan berba...</td>\n",
       "      <td>10 December 2023</td>\n",
       "      <td>Ganjar Nugraha</td>\n",
       "      <td>https://waste4change.com/blog/limbah-keras-ano...</td>\n",
       "    </tr>\n",
       "  </tbody>\n",
       "</table>\n",
       "</div>"
      ],
      "text/plain": [
       "   Kode                                              title  \\\n",
       "0     0  Trend Kemasan Berkelanjutan: Botol Plastik Tan...   \n",
       "1     1  Pemenang UN SDG Action Awards 2023 Bantu Kuran...   \n",
       "2     2  10 Cara Mengatasi Pencemaran Tanah dan Panduannya   \n",
       "3     3  Apa itu Limbah Domestik? Berikut Contoh Jenis ...   \n",
       "4     4  21 Contoh Limbah Keras Anorganik + Pengertian ...   \n",
       "\n",
       "                                             content      date_created  \\\n",
       "0  Industri pengemasan atau packaging saat ini me...   1 February 2024   \n",
       "1  Green Obsession, penerima penghargaan UN SDG A...  22 December 2023   \n",
       "2  Penting sekali untuk mengetahui cara mengatasi...  19 December 2023   \n",
       "3  Apa itu limbah domestik? Apa pengertian dari l...  11 December 2023   \n",
       "4  Sehari-hari, manusia selalu menghasilkan berba...  10 December 2023   \n",
       "\n",
       "           author                                               link  \n",
       "0           admin  https://waste4change.com/blog/trend-kemasan-be...  \n",
       "1    Mita Defitri  https://waste4change.com/blog/pemenang-un-sdg-...  \n",
       "2  Ganjar Nugraha  https://waste4change.com/blog/cara-mengatasi-p...  \n",
       "3  Ganjar Nugraha  https://waste4change.com/blog/apa-itu-limbah-d...  \n",
       "4  Ganjar Nugraha  https://waste4change.com/blog/limbah-keras-ano...  "
      ]
     },
     "execution_count": 13,
     "metadata": {},
     "output_type": "execute_result"
    }
   ],
   "source": [
    "reco.head()"
   ]
  },
  {
   "cell_type": "code",
   "execution_count": 16,
   "metadata": {},
   "outputs": [],
   "source": [
    "sastrawi = StopWordRemoverFactory()\n",
    "stopwords = sastrawi.get_stop_words()\n",
    "factory = StemmerFactory()\n",
    "stemmer = factory.create_stemmer()"
   ]
  },
  {
   "cell_type": "code",
   "execution_count": 17,
   "metadata": {},
   "outputs": [],
   "source": [
    "#Membersihkan Dataset\n",
    "def clean_text(text):\n",
    "  text = text.strip() #Menghapus spasi dan tab\n",
    "  text = re.sub('[^a-z ]','',text) #Menghapus semua tanda baca dan numerik\n",
    "  text = stemmer.stem(text) #Melakukan Stemming pada Text\n",
    "  text = ' '.join(word for word in text.split() if word not in stopwords) #Menambahkan Spasi untuk setiap kata\n",
    "  return text.strip()"
   ]
  },
  {
   "cell_type": "code",
   "execution_count": 18,
   "metadata": {},
   "outputs": [],
   "source": [
    "df.content = df.content.apply(clean_text)"
   ]
  },
  {
   "cell_type": "code",
   "execution_count": 23,
   "metadata": {},
   "outputs": [],
   "source": [
    "tf = TfidfVectorizer(analyzer='word',lowercase=True,ngram_range=(1,3),min_df=0,use_idf=True)\n",
    "tfidf_vector  = tf.fit_transform((df.content)).toarray()\n",
    "\n",
    "user_input = 'bagaimana cara mengolah sampah plastik'\n",
    "user_input = clean_text(user_input)\n",
    "user_vector = tf.transform([user_input]).toarray()"
   ]
  },
  {
   "cell_type": "code",
   "execution_count": 21,
   "metadata": {},
   "outputs": [],
   "source": [
    "def recommendations(input_user):\n",
    "    user_input = clean_text(input_user)\n",
    "    vector_user = tf.transform([user_input]).toarray()\n",
    "    print(user_input)\n",
    "    cos_sim = cosine_similarity(tfidf_vector,vector_user)\n",
    "    df['cosim'] = cos_sim\n",
    "\n",
    "    return df.sort_values('cosim',ascending=False).head()"
   ]
  },
  {
   "cell_type": "code",
   "execution_count": 24,
   "metadata": {},
   "outputs": [
    {
     "name": "stdout",
     "output_type": "stream",
     "text": [
      "bagaimana cara kelola sampah plastik\n"
     ]
    },
    {
     "data": {
      "text/html": [
       "<div>\n",
       "<style scoped>\n",
       "    .dataframe tbody tr th:only-of-type {\n",
       "        vertical-align: middle;\n",
       "    }\n",
       "\n",
       "    .dataframe tbody tr th {\n",
       "        vertical-align: top;\n",
       "    }\n",
       "\n",
       "    .dataframe thead th {\n",
       "        text-align: right;\n",
       "    }\n",
       "</style>\n",
       "<table border=\"1\" class=\"dataframe\">\n",
       "  <thead>\n",
       "    <tr style=\"text-align: right;\">\n",
       "      <th></th>\n",
       "      <th>Kode</th>\n",
       "      <th>title</th>\n",
       "      <th>content</th>\n",
       "      <th>date_created</th>\n",
       "      <th>author</th>\n",
       "      <th>link</th>\n",
       "      <th>cosim</th>\n",
       "    </tr>\n",
       "  </thead>\n",
       "  <tbody>\n",
       "    <tr>\n",
       "      <th>50</th>\n",
       "      <td>50</td>\n",
       "      <td>Mengenal Lebih Dekat Sampah Plastik Fleksibel ...</td>\n",
       "      <td>enurut data ementerian ingkungan idup ehutanan...</td>\n",
       "      <td>26 August 2022</td>\n",
       "      <td>Mita Defitri</td>\n",
       "      <td>https://waste4change.com/blog/mengenal-lebih-d...</td>\n",
       "      <td>0.108769</td>\n",
       "    </tr>\n",
       "    <tr>\n",
       "      <th>18</th>\n",
       "      <td>18</td>\n",
       "      <td>Langkah China dalam Memerangi Sampah Plastik</td>\n",
       "      <td>hina sejak beberapa tahun lalu nobat jadi sala...</td>\n",
       "      <td>1 July 2023</td>\n",
       "      <td>Mita Defitri</td>\n",
       "      <td>https://waste4change.com/blog/langkah-china-da...</td>\n",
       "      <td>0.099410</td>\n",
       "    </tr>\n",
       "    <tr>\n",
       "      <th>46</th>\n",
       "      <td>46</td>\n",
       "      <td>Ketahui Manfaat Pengelolaan Sampah Rumah Tangga</td>\n",
       "      <td>ampah rumah tangga rupa salah satu masalah mun...</td>\n",
       "      <td>25 October 2022</td>\n",
       "      <td>Mita Defitri</td>\n",
       "      <td>https://waste4change.com/blog/ketahui-manfaat-...</td>\n",
       "      <td>0.095924</td>\n",
       "    </tr>\n",
       "    <tr>\n",
       "      <th>59</th>\n",
       "      <td>59</td>\n",
       "      <td>Bahaya Sampah Plastik bagi Kesehatan, Temuan M...</td>\n",
       "      <td>ahaya sampah plastik makin hantu hidup manusia...</td>\n",
       "      <td>10 August 2022</td>\n",
       "      <td>Mita Defitri</td>\n",
       "      <td>https://waste4change.com/blog/bahaya-sampah-pl...</td>\n",
       "      <td>0.087116</td>\n",
       "    </tr>\n",
       "    <tr>\n",
       "      <th>11</th>\n",
       "      <td>11</td>\n",
       "      <td>Sampah Plastik di Korea Selatan: Cara Mengatas...</td>\n",
       "      <td>orea elatan keluar beberapa bijak tanggulang m...</td>\n",
       "      <td>9 August 2023</td>\n",
       "      <td>Mita Defitri</td>\n",
       "      <td>https://waste4change.com/blog/sampah-plastik-d...</td>\n",
       "      <td>0.086149</td>\n",
       "    </tr>\n",
       "  </tbody>\n",
       "</table>\n",
       "</div>"
      ],
      "text/plain": [
       "    Kode                                              title  \\\n",
       "50    50  Mengenal Lebih Dekat Sampah Plastik Fleksibel ...   \n",
       "18    18       Langkah China dalam Memerangi Sampah Plastik   \n",
       "46    46    Ketahui Manfaat Pengelolaan Sampah Rumah Tangga   \n",
       "59    59  Bahaya Sampah Plastik bagi Kesehatan, Temuan M...   \n",
       "11    11  Sampah Plastik di Korea Selatan: Cara Mengatas...   \n",
       "\n",
       "                                              content     date_created  \\\n",
       "50  enurut data ementerian ingkungan idup ehutanan...   26 August 2022   \n",
       "18  hina sejak beberapa tahun lalu nobat jadi sala...      1 July 2023   \n",
       "46  ampah rumah tangga rupa salah satu masalah mun...  25 October 2022   \n",
       "59  ahaya sampah plastik makin hantu hidup manusia...   10 August 2022   \n",
       "11  orea elatan keluar beberapa bijak tanggulang m...    9 August 2023   \n",
       "\n",
       "          author                                               link     cosim  \n",
       "50  Mita Defitri  https://waste4change.com/blog/mengenal-lebih-d...  0.108769  \n",
       "18  Mita Defitri  https://waste4change.com/blog/langkah-china-da...  0.099410  \n",
       "46  Mita Defitri  https://waste4change.com/blog/ketahui-manfaat-...  0.095924  \n",
       "59  Mita Defitri  https://waste4change.com/blog/bahaya-sampah-pl...  0.087116  \n",
       "11  Mita Defitri  https://waste4change.com/blog/sampah-plastik-d...  0.086149  "
      ]
     },
     "execution_count": 24,
     "metadata": {},
     "output_type": "execute_result"
    }
   ],
   "source": [
    "recommendations('bagaimana cara mengelola sampah plastik')"
   ]
  }
 ],
 "metadata": {
  "kernelspec": {
   "display_name": "Python 3",
   "language": "python",
   "name": "python3"
  },
  "language_info": {
   "codemirror_mode": {
    "name": "ipython",
    "version": 3
   },
   "file_extension": ".py",
   "mimetype": "text/x-python",
   "name": "python",
   "nbconvert_exporter": "python",
   "pygments_lexer": "ipython3",
   "version": "3.10.7"
  }
 },
 "nbformat": 4,
 "nbformat_minor": 2
}
